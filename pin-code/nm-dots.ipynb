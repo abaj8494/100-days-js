{
 "cells": [
  {
   "cell_type": "markdown",
   "id": "e7bfda56-c9bc-41b8-b123-b7b19407e550",
   "metadata": {},
   "source": [
    "search algorithm, dfs, symmetrical problem\n",
    "\n",
    "1 2 3\n",
    "4 5 6\n",
    "7 8 9\n",
    "\n",
    "0,0 0,1 0,2\n",
    "1,0 1,1 1,2\n",
    "2,0 2,1 2,2\n",
    "\n",
    "I think implementing this in Lua with a table will be a good idea.\n",
    "\n",
    "1 -> 2 (right)\n",
    "  -> 5 (diag)\n",
    "  -> 4 (down)\n",
    "\n",
    "the assumption is that we do not know the correct solution.\n",
    "\n",
    "rules:\n",
    "you may create straight strikes across the grid until all the numbers have disappeared.\n",
    "\n",
    "the lower the number of strikes the better. we know it can be done in 4 strikes and 5 strikes.\n"
   ]
  },
  {
   "cell_type": "code",
   "execution_count": 179,
   "id": "52de9df5-45b4-4e13-b9de-4d1233337f12",
   "metadata": {},
   "outputs": [],
   "source": [
    "import numpy as np\n",
    "\n",
    "class Grid():\n",
    "    def __init__(self, n, m):\n",
    "        self.n = n\n",
    "        self.m = m\n",
    "        self.pucks = n * m\n",
    "        self.board = np.int32(511) # there should be a nicer way to express this.\n",
    "        \n",
    "    def print_board(self):\n",
    "        arr = int_to_bits(self.board, 32)\n",
    "        print(f\"{self.board.tobytes()}\\n{arr}\")\n",
    "        #arr = str(int_to_bits(myGrid.board, 32))[47:64]\n",
    "        num = self.board\n",
    "        for i in range(1,9+1):\n",
    "            print(int_to_bits(np.right_shift(num, i), 32))\n",
    "\n",
    "    def available_moves(self):\n",
    "        pass\n",
    "        \n",
    "\n",
    "def int_to_bits(integer, num_bits=None):\n",
    "    if num_bits is None:\n",
    "        num_bits = integer.bit_length()\n",
    "    binary_string = bin(integer)[2:].zfill(num_bits)\n",
    "    bit_array = np.array([int(bit) for bit in binary_string], dtype=np.int8)\n",
    "    return bit_array"
   ]
  },
  {
   "cell_type": "code",
   "execution_count": 180,
   "id": "057407ad-218e-4650-876f-1e17a9db7504",
   "metadata": {},
   "outputs": [],
   "source": [
    "myGrid = Grid(3,3)"
   ]
  },
  {
   "cell_type": "code",
   "execution_count": 181,
   "id": "2c0c6cdd-5865-4eb3-9703-b2177644f88c",
   "metadata": {},
   "outputs": [
    {
     "name": "stdout",
     "output_type": "stream",
     "text": [
      "b'\\xff\\x01\\x00\\x00'\n",
      "[0 0 0 0 0 0 0 0 0 0 0 0 0 0 0 0 0 0 0 0 0 0 0 1 1 1 1 1 1 1 1 1]\n",
      "[0 0 0 0 0 0 0 0 0 0 0 0 0 0 0 0 0 0 0 0 0 0 0 0 1 1 1 1 1 1 1 1]\n",
      "[0 0 0 0 0 0 0 0 0 0 0 0 0 0 0 0 0 0 0 0 0 0 0 0 0 1 1 1 1 1 1 1]\n",
      "[0 0 0 0 0 0 0 0 0 0 0 0 0 0 0 0 0 0 0 0 0 0 0 0 0 0 1 1 1 1 1 1]\n",
      "[0 0 0 0 0 0 0 0 0 0 0 0 0 0 0 0 0 0 0 0 0 0 0 0 0 0 0 1 1 1 1 1]\n",
      "[0 0 0 0 0 0 0 0 0 0 0 0 0 0 0 0 0 0 0 0 0 0 0 0 0 0 0 0 1 1 1 1]\n",
      "[0 0 0 0 0 0 0 0 0 0 0 0 0 0 0 0 0 0 0 0 0 0 0 0 0 0 0 0 0 1 1 1]\n",
      "[0 0 0 0 0 0 0 0 0 0 0 0 0 0 0 0 0 0 0 0 0 0 0 0 0 0 0 0 0 0 1 1]\n",
      "[0 0 0 0 0 0 0 0 0 0 0 0 0 0 0 0 0 0 0 0 0 0 0 0 0 0 0 0 0 0 0 1]\n",
      "[0 0 0 0 0 0 0 0 0 0 0 0 0 0 0 0 0 0 0 0 0 0 0 0 0 0 0 0 0 0 0 0]\n"
     ]
    }
   ],
   "source": [
    "myGrid.print_board()"
   ]
  },
  {
   "cell_type": "code",
   "execution_count": 90,
   "id": "63f271cc-2009-4882-b6b5-4f6769dd0e05",
   "metadata": {},
   "outputs": [
    {
     "name": "stdout",
     "output_type": "stream",
     "text": [
      "b'\\xff\\x01\\x00\\x00'\n",
      "[0 0 0 0 0 0 0 0 0 0 0 0 0 0 0 0 0 0 0 0 0 0 0 1 1 1 1 1 1 1 1 1]\n"
     ]
    }
   ],
   "source": [
    "myGrid.print_board()"
   ]
  },
  {
   "cell_type": "code",
   "execution_count": 124,
   "id": "5906ed01-083a-4258-bb52-c66af901ba5e",
   "metadata": {},
   "outputs": [
    {
     "data": {
      "text/plain": [
       "'1 1 1 1 1 1 1 1 1'"
      ]
     },
     "execution_count": 124,
     "metadata": {},
     "output_type": "execute_result"
    }
   ],
   "source": [
    "str(int_to_bits(myGrid.board, 32))[47:64]"
   ]
  },
  {
   "cell_type": "code",
   "execution_count": 192,
   "id": "223cde07-17a8-4eff-a7af-93ea02be2557",
   "metadata": {},
   "outputs": [
    {
     "name": "stdout",
     "output_type": "stream",
     "text": [
      "1 0 0 1 0 0 1 0 0\n"
     ]
    }
   ],
   "source": [
    "print(str(int_to_bits(np.int32(1) << 8 | np.int32(1) << 5 | np.int32(1) << 2,32))[47:64])"
   ]
  },
  {
   "cell_type": "code",
   "execution_count": null,
   "id": "d72109fe-95e3-4707-94cf-4e4f80522bfd",
   "metadata": {},
   "outputs": [],
   "source": []
  }
 ],
 "metadata": {
  "kernelspec": {
   "display_name": "Python 3 (ipykernel)",
   "language": "python",
   "name": "python3"
  },
  "language_info": {
   "codemirror_mode": {
    "name": "ipython",
    "version": 3
   },
   "file_extension": ".py",
   "mimetype": "text/x-python",
   "name": "python",
   "nbconvert_exporter": "python",
   "pygments_lexer": "ipython3",
   "version": "3.12.9"
  }
 },
 "nbformat": 4,
 "nbformat_minor": 5
}
